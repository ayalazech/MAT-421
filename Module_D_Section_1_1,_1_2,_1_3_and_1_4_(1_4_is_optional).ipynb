{
  "nbformat": 4,
  "nbformat_minor": 0,
  "metadata": {
    "colab": {
      "provenance": [],
      "authorship_tag": "ABX9TyMg/WEMJv1/d6jl/6ITrisP",
      "include_colab_link": true
    },
    "kernelspec": {
      "name": "python3",
      "display_name": "Python 3"
    },
    "language_info": {
      "name": "python"
    }
  },
  "cells": [
    {
      "cell_type": "markdown",
      "metadata": {
        "id": "view-in-github",
        "colab_type": "text"
      },
      "source": [
        "<a href=\"https://colab.research.google.com/github/ayalazech/MAT-421/blob/main/Module_D_Section_1_1%2C_1_2%2C_1_3_and_1_4_(1_4_is_optional).ipynb\" target=\"_parent\"><img src=\"https://colab.research.google.com/assets/colab-badge.svg\" alt=\"Open In Colab\"/></a>"
      ]
    },
    {
      "cell_type": "markdown",
      "source": [
        "**1.1: Introduction**\n",
        "\n",
        "---\n",
        "\n",
        "\n"
      ],
      "metadata": {
        "id": "9Zd3EBHoFegq"
      }
    },
    {
      "cell_type": "markdown",
      "source": [
        "\n",
        "Linear algebra is integral for data science and machine learning. The subject is all about using arithmetic on columns of numbers called vectors and arrays of numbers called matrices, to create new columns and arrays of numbers.\n",
        "\n"
      ],
      "metadata": {
        "id": "tLMpuO8wFeT_"
      }
    },
    {
      "cell_type": "markdown",
      "source": [
        "**1.2: Elements of Linear Algebra**\n",
        "\n",
        "---\n",
        "\n"
      ],
      "metadata": {
        "id": "zmxYsFzlpGGp"
      }
    },
    {
      "cell_type": "markdown",
      "source": [
        "EX: Use the Gram Schmidt process to calculate the orthonormal basis of the matrix A=[[6, 5, 0],[5, -1, 4],[5, 1, -14],[0, 4, 3]]"
      ],
      "metadata": {
        "id": "StZSUzPHt83v"
      }
    },
    {
      "cell_type": "code",
      "source": [
        "def gram_schmidt(X):\n",
        "    Q, R = np.linalg.qr(X)\n",
        "    return Q\n",
        "np.set_printoptions(precision=4, suppress=True)\n",
        "A = np.array([[6, 5, 0],[5, -1, 4],[5, 1, -14],[0, 4, 3]], dtype=float)\n",
        "gram_schmidt(A)\n"
      ],
      "metadata": {
        "colab": {
          "base_uri": "https://localhost:8080/"
        },
        "id": "4nlVPl59vAmC",
        "outputId": "15600dc0-8b4e-470b-bc99-cfd7984e6925"
      },
      "execution_count": 52,
      "outputs": [
        {
          "output_type": "execute_result",
          "data": {
            "text/plain": [
              "array([[-0.647 ,  0.5096,  0.1799],\n",
              "       [-0.5392, -0.4811,  0.5743],\n",
              "       [-0.5392, -0.1305, -0.7902],\n",
              "       [-0.    ,  0.7013,  0.1162]])"
            ]
          },
          "metadata": {},
          "execution_count": 52
        }
      ]
    },
    {
      "cell_type": "markdown",
      "source": [
        "EX: Find the eigenvalues and eigenvectors of a=[[0, 2], [2, 3]]"
      ],
      "metadata": {
        "id": "8TMWAWwZ-3iz"
      }
    },
    {
      "cell_type": "code",
      "source": [
        "a = np.array([[0, 2], \n",
        "              [2, 3]])\n",
        "w,v=eig(a)\n",
        "print('E-value:', w)\n",
        "print('E-vector', v)\n"
      ],
      "metadata": {
        "colab": {
          "base_uri": "https://localhost:8080/"
        },
        "id": "1N1CmEVHy0a6",
        "outputId": "028ee627-2a2d-4cdb-a980-98959530b17a"
      },
      "execution_count": 41,
      "outputs": [
        {
          "output_type": "stream",
          "name": "stdout",
          "text": [
            "E-value: [-1.  4.]\n",
            "E-vector [[-0.8944 -0.4472]\n",
            " [ 0.4472 -0.8944]]\n"
          ]
        }
      ]
    },
    {
      "cell_type": "markdown",
      "source": [
        "EX: Diagonalize a=[[0, 2], [2, 3]]"
      ],
      "metadata": {
        "id": "iwxNqizZ_FUH"
      }
    },
    {
      "cell_type": "code",
      "source": [
        "P = v                #equal to thr eigenvectors calculated in the privious example \n",
        "D = np.zeros((2,2))  #creates a two dimentianal matrix with zeros in each input\n",
        "for i in range(2):\n",
        "  D[i,i] = w[i]      #puts the eigenvalue on the diagonal of the 0 matrix\n",
        "\n",
        "P_inv = np.linalg.inv(P) #inverts P\n",
        "\n",
        "print(\"P = \", P)\n",
        "print(\"D = \", D)\n",
        "print(\"P_inv = \", P_inv)\n",
        "print(\"a = \", P @ D @ P_inv)"
      ],
      "metadata": {
        "colab": {
          "base_uri": "https://localhost:8080/"
        },
        "id": "fR4dLFhf4HFs",
        "outputId": "54894f51-35d8-46df-88d8-21b560fa54b3"
      },
      "execution_count": 49,
      "outputs": [
        {
          "output_type": "stream",
          "name": "stdout",
          "text": [
            "P =  [[-0.8944 -0.4472]\n",
            " [ 0.4472 -0.8944]]\n",
            "D =  [[-1.  0.]\n",
            " [ 0.  4.]]\n",
            "P_inv =  [[-0.8944  0.4472]\n",
            " [-0.4472 -0.8944]]\n",
            "a =  [[-0.  2.]\n",
            " [ 2.  3.]]\n"
          ]
        }
      ]
    },
    {
      "cell_type": "markdown",
      "source": [
        "**1.3: Linear Regression**\n",
        "\n",
        "---\n",
        "\n"
      ],
      "metadata": {
        "id": "pGrAYKbuh4Cy"
      }
    },
    {
      "cell_type": "markdown",
      "source": [
        "EX: Consider the artificial data created by x = np.linspace(0, 1, 101)\n",
        " and y = 1 + x + x * np.random.random(len(x))\n",
        ". Do a least squares regression with an estimation function defined by y^=α1x+α2\n",
        ". Plot the data points along with the least squares regression. Note that we expect α1=1.5\n",
        " and α2=1.0\n",
        " based on this data. Due to the random noise we added into the data, your results maybe slightly different.\n",
        "\n"
      ],
      "metadata": {
        "id": "XqotpvEzFAUJ"
      }
    },
    {
      "cell_type": "code",
      "source": [
        "import numpy as np\n",
        "from scipy import optimize\n",
        "import matplotlib.pyplot as plt\n",
        "\n",
        "plt.style.use('seaborn-poster')\n",
        "\n",
        "x = np.linspace(0, 1, 101)              # generate x and y\n",
        "y = 1 + x + x * np.random.random(len(x))\n",
        "\n",
        "\n",
        "A = np.vstack([x, np.ones(len(x))]).T   # assemble matrix A\n",
        "\n",
        "\n",
        "y = y[:, np.newaxis]                    # turn y into a column vector\n",
        "\n",
        "# Direct least square regression\n",
        "alpha = np.dot((np.dot(np.linalg.inv(np.dot(A.T,A)),A.T)),y)\n",
        "print(alpha)\n",
        "\n",
        "# plot the results\n",
        "plt.figure(figsize = (10,8))\n",
        "plt.plot(x, y, 'b.')\n",
        "plt.plot(x, alpha[0]*x + alpha[1], 'r')\n",
        "plt.xlabel('x')\n",
        "plt.ylabel('y')\n",
        "plt.show()"
      ],
      "metadata": {
        "colab": {
          "base_uri": "https://localhost:8080/",
          "height": 552
        },
        "id": "bhfPZ-gDEVYn",
        "outputId": "ac09d295-c30c-48d9-de2f-218e7549e5d3"
      },
      "execution_count": 58,
      "outputs": [
        {
          "output_type": "stream",
          "name": "stdout",
          "text": [
            "[[1.4195]\n",
            " [1.024 ]]\n"
          ]
        },
        {
          "output_type": "display_data",
          "data": {
            "text/plain": [
              "<Figure size 720x576 with 1 Axes>"
            ],
            "image/png": "[encoded data removed]"
          },
          "metadata": {
            "needs_background": "light"
          }
        }
      ]
    },
    {
      "cell_type": "markdown",
      "source": [
        "EX: Find the QR Decompotition of A = [[6, 5, 0],[5, -1, 4],[5, 1, -14],[0, 4, 3]]"
      ],
      "metadata": {
        "id": "imThIFuVHzEe"
      }
    },
    {
      "cell_type": "code",
      "source": [
        "def qr_decomp(X):\n",
        "    Q, R = np.linalg.qr(X)\n",
        "    print(\"Q=\",Q) \n",
        "    print(\"R=\",R)\n",
        "np.set_printoptions(precision=4, suppress=True)\n",
        "A = np.array([[6, 5, 0],[5, -1, 4],[5, 1, -14],[0, 4, 3]], dtype=float)\n",
        "qr_decomp(A)\n"
      ],
      "metadata": {
        "colab": {
          "base_uri": "https://localhost:8080/"
        },
        "id": "k2Wl0Ad6F1z4",
        "outputId": "74993534-4065-4cf2-e46d-6b10d8fa6036"
      },
      "execution_count": 67,
      "outputs": [
        {
          "output_type": "stream",
          "name": "stdout",
          "text": [
            "Q= [[-0.647   0.5096  0.1799]\n",
            " [-0.5392 -0.4811  0.5743]\n",
            " [-0.5392 -0.1305 -0.7902]\n",
            " [-0.      0.7013  0.1162]]\n",
            "R= [[-9.2736 -3.235   5.3916]\n",
            " [ 0.      5.7039  2.006 ]\n",
            " [ 0.      0.     13.7079]]\n"
          ]
        }
      ]
    }
  ]
}