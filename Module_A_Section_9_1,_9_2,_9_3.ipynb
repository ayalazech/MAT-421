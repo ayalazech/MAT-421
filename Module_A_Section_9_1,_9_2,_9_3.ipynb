{
  "nbformat": 4,
  "nbformat_minor": 0,
  "metadata": {
    "colab": {
      "provenance": [],
      "authorship_tag": "ABX9TyOD6U0hsWgkVe1YT8494JEU",
      "include_colab_link": true
    },
    "kernelspec": {
      "name": "python3",
      "display_name": "Python 3"
    },
    "language_info": {
      "name": "python"
    }
  },
  "cells": [
    {
      "cell_type": "markdown",
      "metadata": {
        "id": "view-in-github",
        "colab_type": "text"
      },
      "source": [
        "<a href=\"https://colab.research.google.com/github/ayalazech/Mat/blob/main/Module_A_Section_9_1%2C_9_2%2C_9_3.ipynb\" target=\"_parent\"><img src=\"https://colab.research.google.com/assets/colab-badge.svg\" alt=\"Open In Colab\"/></a>"
      ]
    },
    {
      "cell_type": "markdown",
      "source": [
        "**Section 9.1: Base-N and Binary**"
      ],
      "metadata": {
        "id": "5mK4WLEmg956"
      }
    },
    {
      "cell_type": "code",
      "execution_count": null,
      "metadata": {
        "colab": {
          "base_uri": "https://localhost:8080/"
        },
        "id": "Uv1wMPLSc8zS",
        "outputId": "6ca97594-a8c6-42e5-9424-419b09911a11"
      },
      "outputs": [
        {
          "output_type": "execute_result",
          "data": {
            "text/plain": [
              "True"
            ]
          },
          "metadata": {},
          "execution_count": 6
        }
      ],
      "source": [
        "#Base 10 \n",
        "\n",
        "#because the english number system is inherently base 10, it is the easiest to convert into decimal expansion\n",
        "156 == 1*(10**2) + 5*(10**1) + 6*(10**0)\n",
        "#results in true"
      ]
    },
    {
      "cell_type": "code",
      "source": [
        "#Base 5\n",
        "\n",
        "156 == 125 + 25 + 5 + 1 == 1*(5**3) + 1*(5**2) + 1*(5**1) + 1*(5**0) \n",
        "#results in true\n",
        "#thus, 156(base 10) = 1111(base 5)"
      ],
      "metadata": {
        "colab": {
          "base_uri": "https://localhost:8080/"
        },
        "id": "96HQKw26jPUm",
        "outputId": "db01ea61-7360-41dd-a3e1-b8908c9604f4"
      },
      "execution_count": null,
      "outputs": [
        {
          "output_type": "execute_result",
          "data": {
            "text/plain": [
              "True"
            ]
          },
          "metadata": {},
          "execution_count": 8
        }
      ]
    },
    {
      "cell_type": "code",
      "source": [
        "#Base 2 (Binary)\n",
        "\n",
        "156 == 128 + 16 + 8 + 4 == 1*(2**7) + 0*(2**6) + 0*(2**5) + 1*(2**4) + 1*(2**3) + 1*(2**2) + 0*(2**1) + 0*(2**0) \n",
        "#results in true\n",
        "#thus, 156(base 10) = 10011100(base 2)\n",
        "\n"
      ],
      "metadata": {
        "colab": {
          "base_uri": "https://localhost:8080/"
        },
        "id": "S0d2DVFNoDDa",
        "outputId": "5fcf0481-b24b-41b5-c0d3-14e03d9a0b18"
      },
      "execution_count": null,
      "outputs": [
        {
          "output_type": "execute_result",
          "data": {
            "text/plain": [
              "True"
            ]
          },
          "metadata": {},
          "execution_count": 93
        }
      ]
    },
    {
      "cell_type": "code",
      "source": [
        "#Base-10 to Base-N\n",
        "\n",
        "import math\n",
        "\n",
        "def baseN(x, N):  #takes any base 10 number and the base you want to convert it to\n",
        " st = ''\n",
        " \n",
        " while x>0:          #loops till x is 0\n",
        "  left = x % N       #stores the remainder\n",
        "  x= math.trunc(x/N) #gets rid of any decimals\n",
        "  st += str(left)    #adds remainder as a string\n",
        " return st[::-1]     #reverses string\n",
        "\n",
        "\n",
        "#example:\n",
        "baseN(78,2)  #prints 1001110\n",
        "#converts 78(base-10) into binary\n"
      ],
      "metadata": {
        "colab": {
          "base_uri": "https://localhost:8080/",
          "height": 35
        },
        "id": "VACdeCWXof-O",
        "outputId": "9c18834d-310c-474b-fe9a-c8ecfd3d4577"
      },
      "execution_count": null,
      "outputs": [
        {
          "output_type": "execute_result",
          "data": {
            "text/plain": [
              "'1001110'"
            ],
            "application/vnd.google.colaboratory.intrinsic+json": {
              "type": "string"
            }
          },
          "metadata": {},
          "execution_count": 73
        }
      ]
    },
    {
      "cell_type": "code",
      "source": [
        "#Binary Addition\n",
        "\n",
        "def BinAdd(binNum1, binNum2):   #takes two binary numbers\n",
        "  num1 = int(binNum1, 2)        #converts both numbers into integers\n",
        "  num2 = int(binNum2, 2)\n",
        "\n",
        "  sum = num1 + num2\n",
        "  binSum = bin(sum)             #the bin() function converts integers into binary with the addition of 0b at the beginning of the number\n",
        "  print(binSum[2:])             #prints the string startng at an index of 2\n",
        "\n",
        "\n",
        "#example:\n",
        "BinAdd('1100100', '1001110')\n",
        "#prints 10110010\n"
      ],
      "metadata": {
        "id": "KA2aXw_owH-F",
        "colab": {
          "base_uri": "https://localhost:8080/"
        },
        "outputId": "837e7eef-6a2a-4768-f635-49f365bf3729"
      },
      "execution_count": null,
      "outputs": [
        {
          "output_type": "stream",
          "name": "stdout",
          "text": [
            "10110010\n"
          ]
        }
      ]
    },
    {
      "cell_type": "code",
      "source": [
        "#Binary Multiplication\n",
        "\n",
        "def BinMul(binNum1, binNum2):   #takes two binary numbers\n",
        "  num1 = int(binNum1, 2)        # converts both numbers into integers\n",
        "  num2 = int(binNum2, 2)\n",
        "\n",
        "  product = num1 * num2\n",
        "  binProd = bin(product)        #the bin() function converts integers into binary with the addition of 0b at the beginning of the number\n",
        "  print(binProd[2:])            #prints the string startng at an index of 2\n",
        "\n",
        "\n",
        "#example:\n",
        "BinMul('1100100', '1001110')\n",
        "#prints 1111001111000\n"
      ],
      "metadata": {
        "colab": {
          "base_uri": "https://localhost:8080/"
        },
        "id": "gx0gmJjMpXlr",
        "outputId": "9e2a7600-b2cc-468a-e617-5f6d9c6f4c16"
      },
      "execution_count": null,
      "outputs": [
        {
          "output_type": "stream",
          "name": "stdout",
          "text": [
            "1111001111000\n"
          ]
        }
      ]
    },
    {
      "cell_type": "markdown",
      "source": [
        "**9.2: Floating Point Numbers**"
      ],
      "metadata": {
        "id": "lJlczgpyhFjz"
      }
    },
    {
      "cell_type": "code",
      "source": [
        "import sys\n",
        "sys.float_info\n",
        "import numpy as num\n",
        "\n",
        "space = num.spacing(1e17)\n",
        "print(1e17 == (1e17 + .5*space))  #adding less than or equal to half of the gap will not change the number \n",
        "print(1e17 == (1e17 + .51*space)) #adding more than half of the gap will change the number \n",
        "\n",
        "sys.float_info.max == sys.float_info.max + 10000000  #essentially like adding zero because already at max\n",
        "print(sys.float_info.max + sys.float_info.max)       #when the number added is big enough it goes into overflow and results in inf\n",
        "\n",
        "print(2**(-1074))          #prints 5e-324\n",
        "print((2**(-1074))*.5)     #too small so underflows to 0.0"
      ],
      "metadata": {
        "id": "MfOwlbaC1h5m",
        "colab": {
          "base_uri": "https://localhost:8080/"
        },
        "outputId": "4d9601d2-6c40-4864-8d17-a31c3f5521dd"
      },
      "execution_count": null,
      "outputs": [
        {
          "output_type": "stream",
          "name": "stdout",
          "text": [
            "True\n",
            "False\n",
            "inf\n",
            "5e-324\n",
            "0.0\n"
          ]
        }
      ]
    },
    {
      "cell_type": "markdown",
      "source": [
        "**9.3: Round-off Errors**"
      ],
      "metadata": {
        "id": "eUElqm77qAga"
      }
    },
    {
      "cell_type": "code",
      "source": [
        "#Accumulation of round-off error\n",
        "\n",
        "def RoundOffError(num, x):    #takes a number and the number of times you want to add and subtract .2\n",
        "  \n",
        "  for i in range(x):\n",
        "    num+=.2                   #adding 0.2 to any number x amount of times\n",
        "    \n",
        "  for i in range(x):  \n",
        "    num-=.2                   #subtracting 0.2 to any number x amount of times\n",
        "\n",
        "  return num\n",
        "  #Should result in original num\n",
        "\n",
        "\n",
        "#example:\n",
        "print(RoundOffError(.6, 100))        #prints 0.29999999999999993\n",
        "print(RoundOffError(.6, 10000))      #prints 0.2999999999999893\n",
        "print(RoundOffError(.6, 10000000))   #prints 0.2999999999972608\n",
        "# That is clearly not the case \n",
        "\n",
        "round(RoundOffError(.6, 100),2) == round(RoundOffError(.6, 10000),2) == round(RoundOffError(.6, 10000000),2) == .6  #prints true\n",
        "# that can be fixed with the round() function\n"
      ],
      "metadata": {
        "colab": {
          "base_uri": "https://localhost:8080/"
        },
        "id": "in_AZ7yvhHWx",
        "outputId": "e12f1e10-3d31-47c9-c958-d8229bab84eb"
      },
      "execution_count": null,
      "outputs": [
        {
          "output_type": "stream",
          "name": "stdout",
          "text": [
            "0.5999999999999988\n",
            "0.5999999999999126\n",
            "0.5999999999196355\n"
          ]
        },
        {
          "output_type": "execute_result",
          "data": {
            "text/plain": [
              "True"
            ]
          },
          "metadata": {},
          "execution_count": 18
        }
      ]
    }
  ]
}