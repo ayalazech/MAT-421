{
  "nbformat": 4,
  "nbformat_minor": 0,
  "metadata": {
    "colab": {
      "provenance": [],
      "authorship_tag": "ABX9TyMZmlwz2t6MYDDhPUjeXrPO",
      "include_colab_link": true
    },
    "kernelspec": {
      "name": "python3",
      "display_name": "Python 3"
    },
    "language_info": {
      "name": "python"
    }
  },
  "cells": [
    {
      "cell_type": "markdown",
      "metadata": {
        "id": "view-in-github",
        "colab_type": "text"
      },
      "source": [
        "<a href=\"https://colab.research.google.com/github/ayalazech/MAT-421/blob/main/Module_G_Section_21_1%2C_21_2%2C_21_3.ipynb\" target=\"_parent\"><img src=\"https://colab.research.google.com/assets/colab-badge.svg\" alt=\"Open In Colab\"/></a>"
      ]
    },
    {
      "cell_type": "markdown",
      "source": [
        "**21.1: Numerical Integration Problem Statement**\n",
        "\n",
        "---\n",
        "\n"
      ],
      "metadata": {
        "id": "gTELcHe6n9HI"
      }
    },
    {
      "cell_type": "markdown",
      "source": [
        "To estimate the integral of a function $f(x)$ over the entire interval $[a,b]$, we aim to discretize the interval into a grid of $n+1$ points with equal spacing $h=\\frac{b-a}{n}$, denoted by $x_i$ where $i$ ranges from 0 to n. Here, $x_0=a$ and $x_n=b$. We assume that we have access to the function $f(x)$ at each of these grid points or it has been given to us implicitly as $f(x_i)$. Each subinterval $[x_i, x_{i+1}]$ is considered, and we want to approximate the area under $f(x)$ for each subinterval. This is achieved by employing various methods, where each method approximates the area using a specific shape that enables easy computation of the exact area for each subinterval, and then the area contributions of every subinterval are summed up. The figure provided below illustrates this area.."
      ],
      "metadata": {
        "id": "zPKdUGJMn8ps"
      }
    },
    {
      "cell_type": "markdown",
      "source": [
        "\n",
        "**21.2: Riemann’s Integral**\n",
        "\n",
        "---\n",
        "\n",
        "\n",
        "\n",
        "\n",
        "\n"
      ],
      "metadata": {
        "id": "YGQXnFLgn5ol"
      }
    },
    {
      "cell_type": "markdown",
      "source": [
        "Example: Use the left Riemann Integral, right Riemann Integral, and Midpoint Rule to approximate $∫^π_0sin(x)dx$\n",
        " wtih 120 evenly spaced grid ponts over the whole interval. Compare this value to the exact value of 2."
      ],
      "metadata": {
        "id": "EDOqbS4NnULt"
      }
    },
    {
      "cell_type": "code",
      "execution_count": 7,
      "metadata": {
        "colab": {
          "base_uri": "https://localhost:8080/"
        },
        "id": "T4uPj7aunIDm",
        "outputId": "c2eab519-65da-46a0-c216-2ec686a323f7"
      },
      "outputs": [
        {
          "output_type": "stream",
          "name": "stdout",
          "text": [
            "Left hand method:  1.9998838391939397\n",
            "Error 1:  0.00011616080606025037\n",
            "Right hand method:  1.9998838391939397\n",
            "Error 2:  0.00011616080606025037\n",
            "Midpoint method:  2.00005808090903\n",
            "Error 3:  -5.808090902981178e-05\n"
          ]
        }
      ],
      "source": [
        "import numpy as np\n",
        "\n",
        "a = 0\n",
        "b = np.pi\n",
        "n = 120\n",
        "h = (b - a) / (n - 1)\n",
        "x = np.linspace(a, b, n)\n",
        "f = np.sin(x)\n",
        "\n",
        "I_riemannL = h * sum(f[:n-1])\n",
        "err_riemannL = 2 - I_riemannL\n",
        "\n",
        "I_riemannR = h * sum(f[1::])\n",
        "err_riemannR = 2 - I_riemannR\n",
        "\n",
        "I_mid = h * sum(np.sin((x[:n-1] \\\n",
        "        + x[1:])/2))\n",
        "err_mid = 2 - I_mid\n",
        "\n",
        "print('Left hand method: ', I_riemannL)\n",
        "print('Error 1: ',err_riemannL)\n",
        "\n",
        "print('Right hand method: ',I_riemannR)\n",
        "print('Error 2: ',err_riemannR)\n",
        "\n",
        "print('Midpoint method: ',I_mid)\n",
        "print('Error 3: ',err_mid)"
      ]
    },
    {
      "cell_type": "markdown",
      "source": [
        "**21.3: Trapezoid Rule**\n",
        "\n",
        "---\n",
        "\n"
      ],
      "metadata": {
        "id": "uTdtd9GFn949"
      }
    },
    {
      "cell_type": "markdown",
      "source": [
        "Example: Use the Trapezoid Rule to approximate $∫^π_0sin(x)dx$\n",
        " with 120 evenly spaced grid points over the whole interval. Compare this value to the exact value of 2.\n",
        "\n"
      ],
      "metadata": {
        "id": "kayg8LETnuD7"
      }
    },
    {
      "cell_type": "code",
      "source": [
        "import numpy as np\n",
        "\n",
        "a = 0\n",
        "b = np.pi\n",
        "n = 120\n",
        "h = (b - a) / (n - 1)\n",
        "x = np.linspace(a, b, n)\n",
        "f = np.sin(x)\n",
        "\n",
        "I_trap = (h/2)*(f[0] + \\\n",
        "          2 * sum(f[1:n-1]) + f[n-1])\n",
        "err_trap = 2 - I_trap\n",
        "\n",
        "print('Trapezoid method: ',I_trap)\n",
        "print('Error: ',err_trap)"
      ],
      "metadata": {
        "colab": {
          "base_uri": "https://localhost:8080/"
        },
        "id": "EuuZpnkJnnZS",
        "outputId": "e14e3ab3-48c3-4af7-da12-e628325abf0d"
      },
      "execution_count": 9,
      "outputs": [
        {
          "output_type": "stream",
          "name": "stdout",
          "text": [
            "Trapezoid method:  1.9998838391939397\n",
            "Error:  0.00011616080606025037\n"
          ]
        }
      ]
    }
  ]
}