{
  "nbformat": 4,
  "nbformat_minor": 0,
  "metadata": {
    "colab": {
      "provenance": [],
      "authorship_tag": "ABX9TyP5jiCILrxOOuUGj8i/tM1Y",
      "include_colab_link": true
    },
    "kernelspec": {
      "name": "python3",
      "display_name": "Python 3"
    },
    "language_info": {
      "name": "python"
    }
  },
  "cells": [
    {
      "cell_type": "markdown",
      "metadata": {
        "id": "view-in-github",
        "colab_type": "text"
      },
      "source": [
        "<a href=\"https://colab.research.google.com/github/ayalazech/MAT-421/blob/main/Module_C_Section_19_1%2C_19%2C2%2C_19_3%2C_19_4_19_5.ipynb\" target=\"_parent\"><img src=\"https://colab.research.google.com/assets/colab-badge.svg\" alt=\"Open In Colab\"/></a>"
      ]
    },
    {
      "cell_type": "markdown",
      "source": [
        "**19.1: Root Finding Problem Statement**\n",
        "\n",
        "---\n",
        "\n"
      ],
      "metadata": {
        "id": "oeelehgQERPa"
      }
    },
    {
      "cell_type": "markdown",
      "source": [
        "Using fsolve function from scipy to compute the root of f(x)=sin(x)−x\n",
        " near −2\n",
        ". Verify that the solution is a root (or close enough):"
      ],
      "metadata": {
        "id": "3Y9duRK1PE4O"
      }
    },
    {
      "cell_type": "code",
      "execution_count": null,
      "metadata": {
        "colab": {
          "base_uri": "https://localhost:8080/"
        },
        "id": "mNJHJDYdCjR8",
        "outputId": "88334656-4e87-46b3-fe39-75536691a8bb"
      },
      "outputs": [
        {
          "output_type": "stream",
          "name": "stdout",
          "text": [
            "r = [-2.0855224e-08]\n",
            "result= [0.]\n"
          ]
        }
      ],
      "source": [
        "import numpy as np\n",
        "from scipy import optimize\n",
        "\n",
        "f = lambda x: np.sin(x) - x\n",
        "r = optimize.fsolve(f, -2) # The root approximation of the equation f near -2\n",
        "print(\"r =\", r)\n",
        "\n",
        "\n",
        "result = f(r)  # Verifying the solution is a root\n",
        "print(\"result=\", result) # Outputs zero ot a very close number if the number is a good approximation of a root\n",
        "\n"
      ]
    },
    {
      "cell_type": "markdown",
      "source": [
        "\n",
        "\n",
        "The function f(x)=3/x\n",
        " has no root. Use the fsolve function to try to compute the root of f(x)=3/x\n",
        ". Turn on the full_output to see what’s going on. Remember to check the documentation for details."
      ],
      "metadata": {
        "id": "SI7XsWEKPxRt"
      }
    },
    {
      "cell_type": "code",
      "source": [
        "f = lambda x: 3/x\n",
        "\n",
        "r, infodict, ier, mesg = optimize.fsolve(f, -2, full_output=True)\n",
        "print(\"r =\", r)\n",
        "\n",
        "result = f(r)\n",
        "print(\"result=\", result)\n",
        "\n",
        "print(mesg)"
      ],
      "metadata": {
        "colab": {
          "base_uri": "https://localhost:8080/"
        },
        "id": "KdwQUO2_PiNK",
        "outputId": "1b0f11f3-0e9e-4808-a4af-65b5658f1cb5"
      },
      "execution_count": null,
      "outputs": [
        {
          "output_type": "stream",
          "name": "stdout",
          "text": [
            "r = [-3.52047359e+83]\n",
            "result= [-8.52158077e-84]\n",
            "The number of calls to function has reached maxfev = 400.\n"
          ]
        }
      ]
    },
    {
      "cell_type": "markdown",
      "source": [
        "**19.2: Tolerance**\n",
        "\n",
        "---\n",
        "\n"
      ],
      "metadata": {
        "id": "y9EMT4SDGUx2"
      }
    },
    {
      "cell_type": "markdown",
      "source": [
        "Error is defined as a deviation from an expected or computed value. In an engineering context, tolerance is the level of error that is acceptable. A program converges to an answer when its error is less than its tolerance. "
      ],
      "metadata": {
        "id": "j39zj1RzPal1"
      }
    },
    {
      "cell_type": "markdown",
      "source": [
        "**19.3: Bisection Method**\n",
        "\n",
        "---\n",
        "\n"
      ],
      "metadata": {
        "id": "ykyqiUWXGhiF"
      }
    },
    {
      "cell_type": "markdown",
      "source": [
        "Program a function my_bisection(f, a, b, tol) that approximates a root r\n",
        " of f\n",
        ", bounded by a\n",
        " and b\n",
        " to within |f(a+b)/2|<tol\n",
        "."
      ],
      "metadata": {
        "id": "EDL2NbciQ2PH"
      }
    },
    {
      "cell_type": "code",
      "source": [
        "import numpy as np\n",
        "\n",
        "def my_bisection(f, a, b, tol): \n",
        "    # approximates a root, R, of f bounded \n",
        "    # by a and b to within tolerance \n",
        "    # | f(m) | < tol with m the midpoint \n",
        "    # between a and b Recursive implementation\n",
        "    \n",
        "   \n",
        "    if np.sign(f(a)) == np.sign(f(b)):    # check if a and b bound a root\n",
        "        raise Exception(\n",
        "         \"The scalars a and b do not bound a root\")\n",
        "   \n",
        "\n",
        "    m = (a + b)/2  # get midpoint\n",
        "    \n",
        "    if np.abs(f(m)) < tol:  # stopping condition, returns m as root\n",
        "        return m\n",
        "    elif np.sign(f(a)) == np.sign(f(m)):\n",
        "        # case where m is an improvement on a. \n",
        "        # Make recursive call with a = m\n",
        "        return my_bisection(f, m, b, tol)\n",
        "    elif np.sign(f(b)) == np.sign(f(m)):\n",
        "        # case where m is an improvement on b. \n",
        "        # Make recursive call with b = m\n",
        "        return my_bisection(f, a, m, tol)"
      ],
      "metadata": {
        "id": "1iLgNVAnGh2Z"
      },
      "execution_count": null,
      "outputs": []
    },
    {
      "cell_type": "markdown",
      "source": [
        "The sqrt(2)\n",
        " can be computed as the root of the function f(x)=x^4−3\n",
        ". Starting at a=0\n",
        " and b=2\n",
        ", use my_bisection to approximate the sqrt(2)\n",
        " to a tolerance of |f(x)|<0.1\n",
        " and |f(x)|<0.01\n",
        ". Verify that the results are close to a root by plugging the root back into the function."
      ],
      "metadata": {
        "id": "DtqIzKloRGMI"
      }
    },
    {
      "cell_type": "code",
      "source": [
        "f = lambda x: x**4 - 3\n",
        "\n",
        "r1 = my_bisection(f, 0, 2, 0.1)\n",
        "print(\"r1 =\", r1)\n",
        "r01 = my_bisection(f, 0, 2, 0.01)\n",
        "print(\"r01 =\", r01)\n",
        "\n",
        "print(\"f(r1) =\", f(r1))\n",
        "print(\"f(r01) =\", f(r01))"
      ],
      "metadata": {
        "colab": {
          "base_uri": "https://localhost:8080/"
        },
        "id": "O3S-WMUXJz9h",
        "outputId": "d31d0e02-0438-4e7f-9e9f-91ca79199108"
      },
      "execution_count": null,
      "outputs": [
        {
          "output_type": "stream",
          "name": "stdout",
          "text": [
            "r1 = 1.3125\n",
            "r01 = 1.31640625\n",
            "f(r1) = -0.0324554443359375\n",
            "f(r01) = 0.003030494088307023\n"
          ]
        }
      ]
    },
    {
      "cell_type": "markdown",
      "source": [
        "**19.4: Newton-Raphson Method**\n",
        "\n",
        "---\n",
        "\n"
      ],
      "metadata": {
        "id": "VnqqSGxMJ-In"
      }
    },
    {
      "cell_type": "markdown",
      "source": [
        "the sqrt(2)\n",
        " is the root of the function f(x)=x^2−2\n",
        ". Using x0=1.4\n",
        " as a starting point, use the previous equation to estimate sqrt(2)\n",
        ". Compare this approximation with the value computed by Python’s sqrt function."
      ],
      "metadata": {
        "id": "0YIsVw2aqFlQ"
      }
    },
    {
      "cell_type": "code",
      "source": [
        "import numpy as np\n",
        "\n",
        "f = lambda x: x**2 - 2\n",
        "f_prime = lambda x: 2*x\n",
        "newton_raphson = 1.4 - (f(1.4))/(f_prime(1.4))\n",
        "\n",
        "print(\"newton_raphson =\", newton_raphson)\n",
        "print(\"sqrt(2) =\", np.sqrt(2))"
      ],
      "metadata": {
        "colab": {
          "base_uri": "https://localhost:8080/"
        },
        "id": "VKdeem1uKXwT",
        "outputId": "fcecafef-a90b-4ff9-c52d-acbedb2d14e6"
      },
      "execution_count": null,
      "outputs": [
        {
          "output_type": "stream",
          "name": "stdout",
          "text": [
            "newton_raphson = 1.4142857142857144\n",
            "sqrt(2) = 1.4142135623730951\n"
          ]
        }
      ]
    },
    {
      "cell_type": "markdown",
      "source": [
        "Write a function my_newton(f,df,x0,tol)\n",
        ", where the output is an estimation of the root of f, f is a function object f(x)\n",
        ", df is a function object to f′(x)\n",
        ", x0 is an initial guess, and tol is the error tolerance. The error measurement should be |f(x)|\n",
        "."
      ],
      "metadata": {
        "id": "eu-J_lPmqU3X"
      }
    },
    {
      "cell_type": "code",
      "source": [
        "def my_newton(f, df, x0, tol):\n",
        "    # output is an estimation of the root of f \n",
        "    # using the Newton Raphson method\n",
        "    # recursive implementation\n",
        "    if abs(f(x0)) < tol:\n",
        "        return x0\n",
        "    else:\n",
        "        return my_newton(f, df, x0 - f(x0)/df(x0), tol)"
      ],
      "metadata": {
        "id": "MdefET-NK29v"
      },
      "execution_count": null,
      "outputs": []
    },
    {
      "cell_type": "markdown",
      "source": [
        "Use my_newton= to compute sqrt(2)\n",
        " to within tolerance of 1e-6 starting at x0 = 1.5."
      ],
      "metadata": {
        "id": "AefRvCaZqcGa"
      }
    },
    {
      "cell_type": "code",
      "source": [
        "estimate = my_newton(f, f_prime, 1.5, 1e-6)\n",
        "print(\"estimate =\", estimate)\n",
        "print(\"sqrt(2) =\", np.sqrt(2))"
      ],
      "metadata": {
        "colab": {
          "base_uri": "https://localhost:8080/"
        },
        "id": "ebdiC-auK8sr",
        "outputId": "407e628b-f809-4534-ba69-2f6b0642d1c3"
      },
      "execution_count": null,
      "outputs": [
        {
          "output_type": "stream",
          "name": "stdout",
          "text": [
            "estimate = 1.4142135623746899\n",
            "sqrt(2) = 1.4142135623730951\n"
          ]
        }
      ]
    },
    {
      "cell_type": "markdown",
      "source": [
        "Compute a single Newton step to get an improved approximation of the root of the function f(x)=x^3+3x^2−2x−5\n",
        " and an initial guess, x0=0.29\n",
        "."
      ],
      "metadata": {
        "id": "Fw1_RvbXqkjU"
      }
    },
    {
      "cell_type": "code",
      "source": [
        "x0 = 0.29\n",
        "x1 = x0-(x0**3+3*x0**2-2*x0-5)/(3*x0**2+6*x0-2)\n",
        "print(\"x1 =\", x1)"
      ],
      "metadata": {
        "colab": {
          "base_uri": "https://localhost:8080/"
        },
        "id": "qv0lnkXiLCU6",
        "outputId": "63397005-f887-436e-ea74-d377e388c3d2"
      },
      "execution_count": null,
      "outputs": [
        {
          "output_type": "stream",
          "name": "stdout",
          "text": [
            "x1 = -688.4516883116648\n"
          ]
        }
      ]
    },
    {
      "cell_type": "markdown",
      "source": [
        "**19.5: Root Finding in Python**\n",
        "\n",
        "---\n",
        "\n"
      ],
      "metadata": {
        "id": "ikXCcPVGLT1o"
      }
    },
    {
      "cell_type": "markdown",
      "source": [
        "Compute the root of the function f(x)=x^3−100x^2−x+100\n",
        " using f_solve."
      ],
      "metadata": {
        "id": "lsv7VHgHqt_s"
      }
    },
    {
      "cell_type": "code",
      "source": [
        "from scipy.optimize import fsolve\n",
        "\n",
        "f = lambda x: x**3-100*x**2-x+100\n",
        "\n",
        "fsolve(f, [2, 80])  # The root approximation of the equation f near 2 and 80"
      ],
      "metadata": {
        "colab": {
          "base_uri": "https://localhost:8080/"
        },
        "id": "TKLQ3NVvLZF8",
        "outputId": "9ffd0f43-cfd5-4338-93b7-b51879bd8204"
      },
      "execution_count": null,
      "outputs": [
        {
          "output_type": "execute_result",
          "data": {
            "text/plain": [
              "array([  1., 100.])"
            ]
          },
          "metadata": {},
          "execution_count": 13
        }
      ]
    }
  ]
}